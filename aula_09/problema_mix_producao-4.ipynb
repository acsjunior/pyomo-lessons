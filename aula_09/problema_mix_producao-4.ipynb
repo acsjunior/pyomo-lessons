{
 "cells": [
  {
   "cell_type": "markdown",
   "id": "b549d2d6",
   "metadata": {},
   "source": [
    "[Manual de uso do Pyomo](http://www.opl.ufc.br/files/Manual_Pyomo_2020.pdf)\n",
    "\n",
    "[Playlist de Programação Linear - Cassius Scarpin](https://www.youtube.com/playlist?list=PLY8sfsQRSw792jf1y1KDvRYbL5QMB5CoG)\n",
    "\n",
    "[Tópicos de matemática para cientistas de dados - Wagner Bonat](http://leg.ufpr.br/~wagner/TMCD/MN.html#programação-linear)\n",
    "\n",
    "[Vídeo aula - Modelando o problema do mix de produção](https://www.youtube.com/watch?v=QFZ2UL2baHg&list=PLB0Bkje224EHp-IPd9i_FADBXXQcft5L6&index=10)\n",
    "\n",
    "[Contato](https://acsjunior.com)"
   ]
  },
  {
   "cell_type": "markdown",
   "id": "5407009a",
   "metadata": {},
   "source": [
    "(Belfiore e Fávero) A empresa Venix de brinquedos está revendo seu planejamento de produção de carrinhos e triciclos. \n",
    "\n",
    "O lucro líquido por unidade de carrinho e triciclo produzido é de $\\text{R\\$}12,00$ e $\\text{R\\$}60,00$, respectivamente. \n",
    "\n",
    "As matérias primas e os insumos necessários para a fabricação de cada um dos produtos são terceirizados, cabendo à empresa os processos de usinagem, pintura e montagem. \n",
    "\n",
    "O processo de usinagem requer 15 minutos de mão de obra especializada por unidade de carrinho e 30 minutos por unidade de triciclo produzida. \n",
    "\n",
    "O processo de pintura requer 6 minutos de mão de obra especializada por unidade de carrinho e 45 minutos por unidade de triciclo produzida. \n",
    "\n",
    "Já o processo de montagem necessita de 6 minutos e 24 minutos para uma unidade de carrinho e de triciclo produzida, respectivamente. \n",
    "\n",
    "O tempo disponível por semana é de 36, 22 e 15 horas para os processos de usinagem, pintura e montagem, respectivamente. \n",
    "\n",
    "A empresa quer determinar quanto produzir de cada produto por semana, respeitando as limitações de recursos, de forma a maximizar o lucro líquido semanal. Formular o problema de programação linear que maximiza o lucro líquido da empresa Venix.\n",
    "\n",
    "\n",
    "\n",
    "|  | carrinho | triciclo |\n",
    "|:--- |:---:|:---:|\n",
    "| <b>Lucro (R$)</b> | 12 | 60 |\n",
    "\n",
    "\n",
    "|  | carrinho | triciclo | disponib. (h) |\n",
    "|:--- |:---:|:---:|:---:|\n",
    "| <b>Usinagem</b> | 0,25 | 0,5 | 36 |\n",
    "| <b>Pintura</b> | 0,1 | 0,75 | 22 |\n",
    "| <b>Montagem</b> | 0,1 | 0,4 | 15 |"
   ]
  },
  {
   "cell_type": "markdown",
   "id": "ba6210d4",
   "metadata": {},
   "source": [
    "### Índices / Conjuntos:\n",
    "\n",
    "$I \\colon \\{1, \\ldots, m\\}$\n",
    "\n",
    "$J \\colon \\{1, \\ldots n\\}$\n",
    "\n",
    "### Parâmetros:\n",
    "\n",
    "$c_j \\colon \\text{lucro líquido por unidade do produto } j \\in J \\text{ produzido}$\n",
    "\n",
    "$a_{ij} \\colon \\text{quantidade de horas necessárias para a execução do processo } i \\in I \\text{ na fabricação do produto } j \\in J$\n",
    "\n",
    "$b_i \\colon \\text{quantidade de horas disponíveis para execução do processo } i \\in I$\n",
    "\n",
    "### Variáveis de decisão:\n",
    "\n",
    "$x_j \\colon \\text{quantidade a ser fabricada do produto } j \\in J \\text{ por semana}$\n",
    "\n",
    "### Modelo matemático:\n",
    "\n",
    "$ \\mathrm{max} \\; z = \\sum\\limits_{j \\in J} c_j x_{j}$\n",
    "\n",
    "sujeito a:\n",
    "\n",
    "$\\sum\\limits_{j \\in J} a_{ij} x_{j} \\leq b_{i}, \\;\\; \\forall \\; i \\in I$\n",
    "\n",
    "$x_{j} \\geq 0 \\;\\; \\forall j \\in J$"
   ]
  },
  {
   "cell_type": "code",
   "execution_count": 1,
   "id": "9a26e364",
   "metadata": {},
   "outputs": [],
   "source": [
    "import pyomo.environ as pyo\n",
    "import pandas as pd"
   ]
  },
  {
   "cell_type": "markdown",
   "id": "23c5aa4e",
   "metadata": {},
   "source": [
    "## Leitura dos dados de entrada"
   ]
  },
  {
   "cell_type": "code",
   "execution_count": 2,
   "id": "1e0b0586",
   "metadata": {},
   "outputs": [],
   "source": [
    "df_atividades = pd.read_csv('atividades.csv')"
   ]
  },
  {
   "cell_type": "code",
   "execution_count": 3,
   "id": "64aa802f",
   "metadata": {},
   "outputs": [
    {
     "data": {
      "text/html": [
       "<div>\n",
       "<style scoped>\n",
       "    .dataframe tbody tr th:only-of-type {\n",
       "        vertical-align: middle;\n",
       "    }\n",
       "\n",
       "    .dataframe tbody tr th {\n",
       "        vertical-align: top;\n",
       "    }\n",
       "\n",
       "    .dataframe thead th {\n",
       "        text-align: right;\n",
       "    }\n",
       "</style>\n",
       "<table border=\"1\" class=\"dataframe\">\n",
       "  <thead>\n",
       "    <tr style=\"text-align: right;\">\n",
       "      <th></th>\n",
       "      <th>atividade</th>\n",
       "      <th>disponibilidade</th>\n",
       "    </tr>\n",
       "  </thead>\n",
       "  <tbody>\n",
       "    <tr>\n",
       "      <th>0</th>\n",
       "      <td>usinagem</td>\n",
       "      <td>36</td>\n",
       "    </tr>\n",
       "    <tr>\n",
       "      <th>1</th>\n",
       "      <td>pintura</td>\n",
       "      <td>22</td>\n",
       "    </tr>\n",
       "    <tr>\n",
       "      <th>2</th>\n",
       "      <td>montagem</td>\n",
       "      <td>15</td>\n",
       "    </tr>\n",
       "  </tbody>\n",
       "</table>\n",
       "</div>"
      ],
      "text/plain": [
       "  atividade  disponibilidade\n",
       "0  usinagem               36\n",
       "1   pintura               22\n",
       "2  montagem               15"
      ]
     },
     "execution_count": 3,
     "metadata": {},
     "output_type": "execute_result"
    }
   ],
   "source": [
    "df_atividades.head()"
   ]
  },
  {
   "cell_type": "code",
   "execution_count": 4,
   "id": "67d2598c",
   "metadata": {},
   "outputs": [],
   "source": [
    "df_horas = pd.read_csv('horas_por_atividade.csv')"
   ]
  },
  {
   "cell_type": "code",
   "execution_count": 5,
   "id": "21720300",
   "metadata": {},
   "outputs": [
    {
     "data": {
      "text/html": [
       "<div>\n",
       "<style scoped>\n",
       "    .dataframe tbody tr th:only-of-type {\n",
       "        vertical-align: middle;\n",
       "    }\n",
       "\n",
       "    .dataframe tbody tr th {\n",
       "        vertical-align: top;\n",
       "    }\n",
       "\n",
       "    .dataframe thead th {\n",
       "        text-align: right;\n",
       "    }\n",
       "</style>\n",
       "<table border=\"1\" class=\"dataframe\">\n",
       "  <thead>\n",
       "    <tr style=\"text-align: right;\">\n",
       "      <th></th>\n",
       "      <th>atividade</th>\n",
       "      <th>produto</th>\n",
       "      <th>horas</th>\n",
       "    </tr>\n",
       "  </thead>\n",
       "  <tbody>\n",
       "    <tr>\n",
       "      <th>0</th>\n",
       "      <td>usinagem</td>\n",
       "      <td>carrinho</td>\n",
       "      <td>0.25</td>\n",
       "    </tr>\n",
       "    <tr>\n",
       "      <th>1</th>\n",
       "      <td>usinagem</td>\n",
       "      <td>triciclo</td>\n",
       "      <td>0.50</td>\n",
       "    </tr>\n",
       "    <tr>\n",
       "      <th>2</th>\n",
       "      <td>pintura</td>\n",
       "      <td>carrinho</td>\n",
       "      <td>0.10</td>\n",
       "    </tr>\n",
       "    <tr>\n",
       "      <th>3</th>\n",
       "      <td>pintura</td>\n",
       "      <td>triciclo</td>\n",
       "      <td>0.75</td>\n",
       "    </tr>\n",
       "    <tr>\n",
       "      <th>4</th>\n",
       "      <td>montagem</td>\n",
       "      <td>carrinho</td>\n",
       "      <td>0.10</td>\n",
       "    </tr>\n",
       "  </tbody>\n",
       "</table>\n",
       "</div>"
      ],
      "text/plain": [
       "  atividade   produto  horas\n",
       "0  usinagem  carrinho   0.25\n",
       "1  usinagem  triciclo   0.50\n",
       "2   pintura  carrinho   0.10\n",
       "3   pintura  triciclo   0.75\n",
       "4  montagem  carrinho   0.10"
      ]
     },
     "execution_count": 5,
     "metadata": {},
     "output_type": "execute_result"
    }
   ],
   "source": [
    "df_horas.head()"
   ]
  },
  {
   "cell_type": "code",
   "execution_count": 6,
   "id": "eb96189a",
   "metadata": {},
   "outputs": [],
   "source": [
    "df_produtos = pd.read_csv('produtos.csv')"
   ]
  },
  {
   "cell_type": "code",
   "execution_count": 7,
   "id": "bf6e73b6",
   "metadata": {},
   "outputs": [
    {
     "data": {
      "text/html": [
       "<div>\n",
       "<style scoped>\n",
       "    .dataframe tbody tr th:only-of-type {\n",
       "        vertical-align: middle;\n",
       "    }\n",
       "\n",
       "    .dataframe tbody tr th {\n",
       "        vertical-align: top;\n",
       "    }\n",
       "\n",
       "    .dataframe thead th {\n",
       "        text-align: right;\n",
       "    }\n",
       "</style>\n",
       "<table border=\"1\" class=\"dataframe\">\n",
       "  <thead>\n",
       "    <tr style=\"text-align: right;\">\n",
       "      <th></th>\n",
       "      <th>produto</th>\n",
       "      <th>lucro</th>\n",
       "    </tr>\n",
       "  </thead>\n",
       "  <tbody>\n",
       "    <tr>\n",
       "      <th>0</th>\n",
       "      <td>carrinho</td>\n",
       "      <td>12</td>\n",
       "    </tr>\n",
       "    <tr>\n",
       "      <th>1</th>\n",
       "      <td>triciclo</td>\n",
       "      <td>60</td>\n",
       "    </tr>\n",
       "  </tbody>\n",
       "</table>\n",
       "</div>"
      ],
      "text/plain": [
       "    produto  lucro\n",
       "0  carrinho     12\n",
       "1  triciclo     60"
      ]
     },
     "execution_count": 7,
     "metadata": {},
     "output_type": "execute_result"
    }
   ],
   "source": [
    "df_produtos.head()"
   ]
  },
  {
   "cell_type": "code",
   "execution_count": 8,
   "id": "826f5761",
   "metadata": {},
   "outputs": [],
   "source": [
    "lucros = df_produtos['lucro'].to_list()"
   ]
  },
  {
   "cell_type": "code",
   "execution_count": 9,
   "id": "b08dc37c",
   "metadata": {},
   "outputs": [
    {
     "data": {
      "text/plain": [
       "[12, 60]"
      ]
     },
     "execution_count": 9,
     "metadata": {},
     "output_type": "execute_result"
    }
   ],
   "source": [
    "lucros"
   ]
  },
  {
   "cell_type": "code",
   "execution_count": 10,
   "id": "485258a0",
   "metadata": {},
   "outputs": [],
   "source": [
    "limites = df_atividades['disponibilidade'].to_list()"
   ]
  },
  {
   "cell_type": "code",
   "execution_count": 11,
   "id": "5304a8e3",
   "metadata": {},
   "outputs": [
    {
     "data": {
      "text/plain": [
       "[36, 22, 15]"
      ]
     },
     "execution_count": 11,
     "metadata": {},
     "output_type": "execute_result"
    }
   ],
   "source": [
    "limites"
   ]
  },
  {
   "cell_type": "code",
   "execution_count": 12,
   "id": "aa0ac921",
   "metadata": {},
   "outputs": [],
   "source": [
    "df_horas_pivot = df_horas.pivot(index='atividade', columns='produto', values='horas').reset_index()"
   ]
  },
  {
   "cell_type": "code",
   "execution_count": 13,
   "id": "abdcf45d",
   "metadata": {},
   "outputs": [
    {
     "data": {
      "text/html": [
       "<div>\n",
       "<style scoped>\n",
       "    .dataframe tbody tr th:only-of-type {\n",
       "        vertical-align: middle;\n",
       "    }\n",
       "\n",
       "    .dataframe tbody tr th {\n",
       "        vertical-align: top;\n",
       "    }\n",
       "\n",
       "    .dataframe thead th {\n",
       "        text-align: right;\n",
       "    }\n",
       "</style>\n",
       "<table border=\"1\" class=\"dataframe\">\n",
       "  <thead>\n",
       "    <tr style=\"text-align: right;\">\n",
       "      <th>produto</th>\n",
       "      <th>atividade</th>\n",
       "      <th>carrinho</th>\n",
       "      <th>triciclo</th>\n",
       "    </tr>\n",
       "  </thead>\n",
       "  <tbody>\n",
       "    <tr>\n",
       "      <th>0</th>\n",
       "      <td>montagem</td>\n",
       "      <td>0.10</td>\n",
       "      <td>0.40</td>\n",
       "    </tr>\n",
       "    <tr>\n",
       "      <th>1</th>\n",
       "      <td>pintura</td>\n",
       "      <td>0.10</td>\n",
       "      <td>0.75</td>\n",
       "    </tr>\n",
       "    <tr>\n",
       "      <th>2</th>\n",
       "      <td>usinagem</td>\n",
       "      <td>0.25</td>\n",
       "      <td>0.50</td>\n",
       "    </tr>\n",
       "  </tbody>\n",
       "</table>\n",
       "</div>"
      ],
      "text/plain": [
       "produto atividade  carrinho  triciclo\n",
       "0        montagem      0.10      0.40\n",
       "1         pintura      0.10      0.75\n",
       "2        usinagem      0.25      0.50"
      ]
     },
     "execution_count": 13,
     "metadata": {},
     "output_type": "execute_result"
    }
   ],
   "source": [
    "df_horas_pivot"
   ]
  },
  {
   "cell_type": "code",
   "execution_count": 14,
   "id": "1a10f172",
   "metadata": {},
   "outputs": [],
   "source": [
    "df_horas_pivot = df_horas_pivot.sort_values(by='atividade', ascending=False).reset_index(drop=True)"
   ]
  },
  {
   "cell_type": "code",
   "execution_count": 15,
   "id": "2a26973a",
   "metadata": {},
   "outputs": [
    {
     "data": {
      "text/html": [
       "<div>\n",
       "<style scoped>\n",
       "    .dataframe tbody tr th:only-of-type {\n",
       "        vertical-align: middle;\n",
       "    }\n",
       "\n",
       "    .dataframe tbody tr th {\n",
       "        vertical-align: top;\n",
       "    }\n",
       "\n",
       "    .dataframe thead th {\n",
       "        text-align: right;\n",
       "    }\n",
       "</style>\n",
       "<table border=\"1\" class=\"dataframe\">\n",
       "  <thead>\n",
       "    <tr style=\"text-align: right;\">\n",
       "      <th>produto</th>\n",
       "      <th>atividade</th>\n",
       "      <th>carrinho</th>\n",
       "      <th>triciclo</th>\n",
       "    </tr>\n",
       "  </thead>\n",
       "  <tbody>\n",
       "    <tr>\n",
       "      <th>0</th>\n",
       "      <td>usinagem</td>\n",
       "      <td>0.25</td>\n",
       "      <td>0.50</td>\n",
       "    </tr>\n",
       "    <tr>\n",
       "      <th>1</th>\n",
       "      <td>pintura</td>\n",
       "      <td>0.10</td>\n",
       "      <td>0.75</td>\n",
       "    </tr>\n",
       "    <tr>\n",
       "      <th>2</th>\n",
       "      <td>montagem</td>\n",
       "      <td>0.10</td>\n",
       "      <td>0.40</td>\n",
       "    </tr>\n",
       "  </tbody>\n",
       "</table>\n",
       "</div>"
      ],
      "text/plain": [
       "produto atividade  carrinho  triciclo\n",
       "0        usinagem      0.25      0.50\n",
       "1         pintura      0.10      0.75\n",
       "2        montagem      0.10      0.40"
      ]
     },
     "execution_count": 15,
     "metadata": {},
     "output_type": "execute_result"
    }
   ],
   "source": [
    "df_horas_pivot"
   ]
  },
  {
   "cell_type": "code",
   "execution_count": 16,
   "id": "bee30713",
   "metadata": {},
   "outputs": [],
   "source": [
    "horas = df_horas_pivot[['carrinho', 'triciclo']].to_numpy()"
   ]
  },
  {
   "cell_type": "code",
   "execution_count": 17,
   "id": "9fc537eb",
   "metadata": {},
   "outputs": [
    {
     "data": {
      "text/plain": [
       "array([[0.25, 0.5 ],\n",
       "       [0.1 , 0.75],\n",
       "       [0.1 , 0.4 ]])"
      ]
     },
     "execution_count": 17,
     "metadata": {},
     "output_type": "execute_result"
    }
   ],
   "source": [
    "horas"
   ]
  },
  {
   "cell_type": "code",
   "execution_count": 18,
   "id": "56845b2c",
   "metadata": {},
   "outputs": [],
   "source": [
    "m = len(limites)\n",
    "n = len(lucros)"
   ]
  },
  {
   "cell_type": "code",
   "execution_count": 19,
   "id": "885f3a16",
   "metadata": {},
   "outputs": [],
   "source": [
    "# Declaração do modelo:\n",
    "\n",
    "modelo = pyo.ConcreteModel()\n",
    "\n",
    "\n",
    "# Índices:\n",
    "\n",
    "modelo.I = pyo.RangeSet(m)\n",
    "modelo.J = pyo.RangeSet(n)\n",
    "\n",
    "\n",
    "# Parâmetros:\n",
    "\n",
    "modelo.c = pyo.Param(modelo.J, initialize=lambda modelo, j: lucros[j-1])\n",
    "modelo.a = pyo.Param(modelo.I, modelo.J, initialize=lambda modelo, i, j: horas[i-1][j-1])\n",
    "modelo.b = pyo.Param(modelo.I, initialize=lambda modelo, i: limites[i-1])\n",
    "\n",
    "\n",
    "# Variáveis de decisão:\n",
    "\n",
    "modelo.x = pyo.Var(modelo.J, within=pyo.NonNegativeReals)\n",
    "\n",
    "\n",
    "# Função objetivo:\n",
    "\n",
    "def regra_z(mod):\n",
    "    return pyo.summation(mod.c, mod.x)\n",
    "\n",
    "modelo.z = pyo.Objective(rule=regra_z, sense=pyo.maximize)\n",
    "\n",
    "\n",
    "# Restrições:\n",
    "\n",
    "def regra_disp_mo(mod, i):\n",
    "    return sum(mod.a[i,j] * mod.x[j] for j in mod.J) <= mod.b[i]\n",
    "\n",
    "modelo.restr_disp_mo = pyo.Constraint(modelo.I, rule=regra_disp_mo)"
   ]
  },
  {
   "cell_type": "code",
   "execution_count": 20,
   "id": "225c8054",
   "metadata": {},
   "outputs": [
    {
     "name": "stdout",
     "output_type": "stream",
     "text": [
      "1 Set Declarations\n",
      "    a_index : Size=1, Index=None, Ordered=True\n",
      "        Key  : Dimen : Domain : Size : Members\n",
      "        None :     2 :    I*J :    6 : {(1, 1), (1, 2), (2, 1), (2, 2), (3, 1), (3, 2)}\n",
      "\n",
      "2 RangeSet Declarations\n",
      "    I : Dimen=1, Size=3, Bounds=(1, 3)\n",
      "        Key  : Finite : Members\n",
      "        None :   True :   [1:3]\n",
      "    J : Dimen=1, Size=2, Bounds=(1, 2)\n",
      "        Key  : Finite : Members\n",
      "        None :   True :   [1:2]\n",
      "\n",
      "3 Param Declarations\n",
      "    a : Size=6, Index=a_index, Domain=Any, Default=None, Mutable=False\n",
      "        Key    : Value\n",
      "        (1, 1) :  0.25\n",
      "        (1, 2) :   0.5\n",
      "        (2, 1) :   0.1\n",
      "        (2, 2) :  0.75\n",
      "        (3, 1) :   0.1\n",
      "        (3, 2) :   0.4\n",
      "    b : Size=3, Index=I, Domain=Any, Default=None, Mutable=False\n",
      "        Key : Value\n",
      "          1 :    36\n",
      "          2 :    22\n",
      "          3 :    15\n",
      "    c : Size=2, Index=J, Domain=Any, Default=None, Mutable=False\n",
      "        Key : Value\n",
      "          1 :    12\n",
      "          2 :    60\n",
      "\n",
      "1 Var Declarations\n",
      "    x : Size=2, Index=J\n",
      "        Key : Lower : Value : Upper : Fixed : Stale : Domain\n",
      "          1 :     0 :  None :  None : False :  True : NonNegativeReals\n",
      "          2 :     0 :  None :  None : False :  True : NonNegativeReals\n",
      "\n",
      "1 Objective Declarations\n",
      "    z : Size=1, Index=None, Active=True\n",
      "        Key  : Active : Sense    : Expression\n",
      "        None :   True : maximize : 12*x[1] + 60*x[2]\n",
      "\n",
      "1 Constraint Declarations\n",
      "    restr_disp_mo : Size=3, Index=I, Active=True\n",
      "        Key : Lower : Body                 : Upper : Active\n",
      "          1 :  -Inf : 0.25*x[1] + 0.5*x[2] :  36.0 :   True\n",
      "          2 :  -Inf : 0.1*x[1] + 0.75*x[2] :  22.0 :   True\n",
      "          3 :  -Inf :  0.1*x[1] + 0.4*x[2] :  15.0 :   True\n",
      "\n",
      "9 Declarations: I J c a_index a b x z restr_disp_mo\n"
     ]
    }
   ],
   "source": [
    "modelo.pprint()"
   ]
  },
  {
   "cell_type": "code",
   "execution_count": 21,
   "id": "0609ec6a",
   "metadata": {},
   "outputs": [],
   "source": [
    "# resultado = pyo.SolverFactory('glpk').solve(modelo)\n",
    "resultado = pyo.SolverFactory('gurobi').solve(modelo)"
   ]
  },
  {
   "cell_type": "code",
   "execution_count": 22,
   "id": "05b4028a",
   "metadata": {},
   "outputs": [
    {
     "name": "stdout",
     "output_type": "stream",
     "text": [
      "# ==========================================================\n",
      "# = Solver Results                                         =\n",
      "# ==========================================================\n",
      "# ----------------------------------------------------------\n",
      "#   Problem Information\n",
      "# ----------------------------------------------------------\n",
      "Problem: \n",
      "- Name: x3\n",
      "  Lower bound: 2040.0\n",
      "  Upper bound: 2040.0\n",
      "  Number of objectives: 1\n",
      "  Number of constraints: 4\n",
      "  Number of variables: 3\n",
      "  Number of binary variables: 0\n",
      "  Number of integer variables: 0\n",
      "  Number of continuous variables: 3\n",
      "  Number of nonzeros: 7\n",
      "  Sense: maximize\n",
      "# ----------------------------------------------------------\n",
      "#   Solver Information\n",
      "# ----------------------------------------------------------\n",
      "Solver: \n",
      "- Status: ok\n",
      "  Return code: 0\n",
      "  Message: Model was solved to optimality (subject to tolerances), and an optimal solution is available.\n",
      "  Termination condition: optimal\n",
      "  Termination message: Model was solved to optimality (subject to tolerances), and an optimal solution is available.\n",
      "  Wall time: 0.0070760250091552734\n",
      "  Error rc: 0\n",
      "  Time: 0.1479649543762207\n",
      "# ----------------------------------------------------------\n",
      "#   Solution Information\n",
      "# ----------------------------------------------------------\n",
      "Solution: \n",
      "- number of solutions: 0\n",
      "  number of solutions displayed: 0\n"
     ]
    }
   ],
   "source": [
    "resultado.write()"
   ]
  },
  {
   "cell_type": "code",
   "execution_count": 23,
   "id": "d657c7a0",
   "metadata": {},
   "outputs": [
    {
     "name": "stdout",
     "output_type": "stream",
     "text": [
      "x : Size=2, Index=J\n",
      "    Key : Lower : Value : Upper : Fixed : Stale : Domain\n",
      "      1 :     0 :  70.0 :  None : False : False : NonNegativeReals\n",
      "      2 :     0 :  20.0 :  None : False : False : NonNegativeReals\n"
     ]
    }
   ],
   "source": [
    "modelo.x.pprint()"
   ]
  },
  {
   "cell_type": "code",
   "execution_count": 24,
   "id": "4e8c9f8b",
   "metadata": {},
   "outputs": [
    {
     "data": {
      "text/plain": [
       "70.0"
      ]
     },
     "execution_count": 24,
     "metadata": {},
     "output_type": "execute_result"
    }
   ],
   "source": [
    "modelo.x[1]()"
   ]
  },
  {
   "cell_type": "code",
   "execution_count": 25,
   "id": "7620d419",
   "metadata": {},
   "outputs": [
    {
     "data": {
      "text/plain": [
       "20.0"
      ]
     },
     "execution_count": 25,
     "metadata": {},
     "output_type": "execute_result"
    }
   ],
   "source": [
    "modelo.x[2]()"
   ]
  },
  {
   "cell_type": "code",
   "execution_count": 26,
   "id": "1be8d8b7",
   "metadata": {},
   "outputs": [
    {
     "data": {
      "text/plain": [
       "2040.0"
      ]
     },
     "execution_count": 26,
     "metadata": {},
     "output_type": "execute_result"
    }
   ],
   "source": [
    "modelo.z()"
   ]
  },
  {
   "cell_type": "code",
   "execution_count": null,
   "id": "ab11c6fc",
   "metadata": {},
   "outputs": [],
   "source": []
  }
 ],
 "metadata": {
  "kernelspec": {
   "display_name": "Python 3",
   "language": "python",
   "name": "python3"
  },
  "language_info": {
   "codemirror_mode": {
    "name": "ipython",
    "version": 3
   },
   "file_extension": ".py",
   "mimetype": "text/x-python",
   "name": "python",
   "nbconvert_exporter": "python",
   "pygments_lexer": "ipython3",
   "version": "3.8.10"
  }
 },
 "nbformat": 4,
 "nbformat_minor": 5
}
