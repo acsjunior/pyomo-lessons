{
 "cells": [
  {
   "cell_type": "markdown",
   "id": "db162df2",
   "metadata": {},
   "source": [
    "[Manual de uso do Pyomo](http://www.opl.ufc.br/files/Manual_Pyomo_2020.pdf)\n",
    "\n",
    "[Vídeo aula - Modelando o problema do Transporte - parte 1](https://www.youtube.com/watch?v=McT1KDAE6xg&list=PLB0Bkje224EHp-IPd9i_FADBXXQcft5L6&index=14)\n",
    "\n",
    "[Vídeo aula - Modelando o problema do Transporte - parte 2](https://www.youtube.com/watch?v=4t0OxOPkNVw&list=PLB0Bkje224EHp-IPd9i_FADBXXQcft5L6&index=16)\n",
    "\n",
    "[Vídeo aula - Como modelar um problema lendo os dados de entrada a partir de arquivos csv](https://www.youtube.com/watch?v=peiG1_akAoU&list=PLB0Bkje224EHp-IPd9i_FADBXXQcft5L6&index=12)\n",
    "\n",
    "[Vídeo aula - Lidando com vetores em Python](https://www.youtube.com/watch?v=DgQ7qlqkDQE&list=PLB0Bkje224EHp-IPd9i_FADBXXQcft5L6&index=9)\n",
    "\n",
    "[Vídeo aula - Lidando com matrizes em Python](https://www.youtube.com/watch?v=XquctHGsEQk&list=PLB0Bkje224EHp-IPd9i_FADBXXQcft5L6&index=10)\n",
    "\n",
    "[Livro - Pesquisa Operacional para Cursos de Engenharia](https://www.grupogen.com.br/pesquisa-operacional-para-cursos-de-engenharia)\n",
    "\n",
    "[Contato](https://acsjunior.com)"
   ]
  },
  {
   "cell_type": "markdown",
   "id": "ddfa13de",
   "metadata": {},
   "source": [
    "(Belfiore e Fávero) A Karpet Ltda é uma empresa fabricante de autopeças, cujas sedes estão localizadas em Osasco, Sorocaba e São Sebastião. \n",
    "\n",
    "Seus clientes encontram-se em São Paulo, Rio de Janeiro e Curitiba. \n",
    "\n",
    "Os custos unitários de transporte de cada origem para cada destino, assim como a capacidade de cada fornecedor e a demanda de cada cliente, encontram-se na tabela abaixo. \n",
    "\n",
    "O objetivo é atender a demanda de cada consumidor final, respeitando as capacidades de fornecimento, de forma a minimizar o custo total de transporte. Modelar o problema de transporte.\n",
    "\n",
    "| Origem | São Paulo | Rio de Janeiro | Curitiba |  Capacidade |\n",
    "| --- | --- | --- | --- | --- | \n",
    "| Osasco | 12 | 22 | 30 | **100** |\n",
    "| Sorocaba | 18 | 24 | 32 | **140** |\n",
    "| São Sebastião | 22 | 15 | 34 | **160** |\n",
    "| Demanda | **120** | **130** | **150** | "
   ]
  },
  {
   "cell_type": "markdown",
   "id": "1191e625",
   "metadata": {},
   "source": [
    "### Índices / Conjuntos\n",
    "\n",
    "$I \\colon \\text{Conjunto de fornecedores}, \\{1, 2,\\ldots, m\\},$\n",
    "\n",
    "$J \\colon \\text{Conjunto de consumidores}, \\{1, 2, \\ldots, n\\}.$\n",
    "\n",
    "\n",
    "### Parâmetros\n",
    "\n",
    "$c_{ij} \\colon \\text{Custo unitário de transporte do fornecedor } i \\in I \\text{ para o consumidor } j \\in J,$\n",
    "\n",
    "$a_i \\colon \\text{Capacidade de abastecimento do fornecedor } i \\in I,$\n",
    "\n",
    "$b_j \\colon \\text{Demanda do consumidor } j \\in J.$\n",
    " \n",
    "\n",
    "\n",
    "### Variáveis de decisão\n",
    "\n",
    "$x_{ij} \\colon \\text{Quantidades transportadas do fornecedor } i \\in I \\text{ para o consumidor }j \\in J.$\n",
    "\n",
    "\n",
    "### Formulação matemática\n",
    "\n",
    "$\\text{min }z = \\sum\\limits_{i \\in I} \\sum\\limits_{j \\in J} c_{ij} x_{ij}.$\n",
    "\n",
    "sujeito a\n",
    "\n",
    "$\\sum\\limits_{j \\in J} x_{ij} \\leq a_{i}, \\forall \\; i \\in I,$\n",
    "\n",
    "$\\sum\\limits_{i \\in I} x_{ij} \\geq b_{j}, \\forall \\; j \\in J,$\n",
    "\n",
    "$x_{ij} \\geq 0 \\;\\; \\forall i \\in I \\text{, }j \\in J.$"
   ]
  },
  {
   "cell_type": "code",
   "execution_count": 1,
   "id": "0a244e26",
   "metadata": {},
   "outputs": [],
   "source": [
    "import pyomo.environ as pyo"
   ]
  },
  {
   "cell_type": "code",
   "execution_count": 2,
   "id": "ce28898e",
   "metadata": {},
   "outputs": [],
   "source": [
    "# Dados de entrada:\n",
    "\n",
    "custos = [[12, 22, 30], \n",
    "          [18, 24, 32], \n",
    "          [22, 15, 34]]\n",
    "\n",
    "capacidade = [100, 140, 160]\n",
    "\n",
    "demanda = [120, 130, 150]\n",
    "\n",
    "m = len(capacidade)\n",
    "n = len(demanda)"
   ]
  },
  {
   "cell_type": "code",
   "execution_count": 3,
   "id": "d7512c7d",
   "metadata": {},
   "outputs": [],
   "source": [
    "# Declaração do modelo:\n",
    "\n",
    "modelo = pyo.ConcreteModel()\n",
    "\n",
    "\n",
    "# Índices:\n",
    "\n",
    "modelo.I = pyo.RangeSet(m)\n",
    "modelo.J = pyo.RangeSet(n)\n",
    "\n",
    "\n",
    "# Parâmetros:\n",
    "\n",
    "modelo.c = pyo.Param(modelo.I, modelo.J, initialize=lambda modelo, i, j: custos[i-1][j-1])\n",
    "modelo.a = pyo.Param(modelo.I, initialize=lambda modelo, i: capacidade[i-1])\n",
    "modelo.b = pyo.Param(modelo.J, initialize=lambda modelo, j: demanda[j-1])\n",
    "\n",
    "\n",
    "# Variáveis de decisão:\n",
    "\n",
    "modelo.x = pyo.Var(modelo.I, modelo.J, within=pyo.NonNegativeReals)\n",
    "\n",
    "\n",
    "# Função objetivo:\n",
    "\n",
    "def regra_z(mod):\n",
    "    return pyo.summation(mod.c, mod.x)\n",
    "\n",
    "# def regra_z(mod):\n",
    "#     return sum(mod.c[i,j]*mod.x[i,j] for i in mod.I for j in mod.J)\n",
    "\n",
    "modelo.z = pyo.Objective(rule=regra_z, sense=pyo.minimize) # minimize = default\n",
    "\n",
    "\n",
    "# Restrições:\n",
    "\n",
    "def regra_capacidade(mod, i):\n",
    "    return sum(mod.x[i,j] for j in mod.J) <= mod.a[i]\n",
    "\n",
    "modelo.restr_capacidade = pyo.Constraint(modelo.I, rule=regra_capacidade)\n",
    "\n",
    "\n",
    "def regra_demanda(mod, j):\n",
    "    return sum(mod.x[i,j] for i in mod.I) >= mod.b[j]\n",
    "\n",
    "modelo.restr_demanda = pyo.Constraint(modelo.J, rule=regra_demanda)"
   ]
  },
  {
   "cell_type": "code",
   "execution_count": 4,
   "id": "03c04f9e",
   "metadata": {},
   "outputs": [],
   "source": [
    "# resultado = pyo.SolverFactory('glpk').solve(modelo)\n",
    "resultado = pyo.SolverFactory('gurobi').solve(modelo)"
   ]
  },
  {
   "cell_type": "code",
   "execution_count": 5,
   "id": "ca0a637f",
   "metadata": {},
   "outputs": [
    {
     "name": "stdout",
     "output_type": "stream",
     "text": [
      "x : Size=9, Index=x_index\n",
      "    Key    : Lower : Value : Upper : Fixed : Stale : Domain\n",
      "    (1, 1) :     0 : 100.0 :  None : False : False : NonNegativeReals\n",
      "    (1, 2) :     0 :   0.0 :  None : False : False : NonNegativeReals\n",
      "    (1, 3) :     0 :   0.0 :  None : False : False : NonNegativeReals\n",
      "    (2, 1) :     0 :  20.0 :  None : False : False : NonNegativeReals\n",
      "    (2, 2) :     0 :   0.0 :  None : False : False : NonNegativeReals\n",
      "    (2, 3) :     0 : 120.0 :  None : False : False : NonNegativeReals\n",
      "    (3, 1) :     0 :   0.0 :  None : False : False : NonNegativeReals\n",
      "    (3, 2) :     0 : 130.0 :  None : False : False : NonNegativeReals\n",
      "    (3, 3) :     0 :  30.0 :  None : False : False : NonNegativeReals\n"
     ]
    }
   ],
   "source": [
    "modelo.x.pprint()"
   ]
  },
  {
   "cell_type": "code",
   "execution_count": 6,
   "id": "b5ceb315",
   "metadata": {},
   "outputs": [
    {
     "data": {
      "text/plain": [
       "8370.0"
      ]
     },
     "execution_count": 6,
     "metadata": {},
     "output_type": "execute_result"
    }
   ],
   "source": [
    "modelo.z()"
   ]
  },
  {
   "cell_type": "code",
   "execution_count": null,
   "id": "e7607ab6",
   "metadata": {},
   "outputs": [],
   "source": []
  }
 ],
 "metadata": {
  "kernelspec": {
   "display_name": "Python 3",
   "language": "python",
   "name": "python3"
  },
  "language_info": {
   "codemirror_mode": {
    "name": "ipython",
    "version": 3
   },
   "file_extension": ".py",
   "mimetype": "text/x-python",
   "name": "python",
   "nbconvert_exporter": "python",
   "pygments_lexer": "ipython3",
   "version": "3.8.10"
  }
 },
 "nbformat": 4,
 "nbformat_minor": 5
}
