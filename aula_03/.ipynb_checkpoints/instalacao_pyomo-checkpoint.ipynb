{
 "cells": [
  {
   "cell_type": "markdown",
   "id": "81116aba",
   "metadata": {},
   "source": [
    "[Manual de uso do Pyomo](http://www.opl.ufc.br/files/Manual_Pyomo_2020.pdf)\n",
    "\n",
    "[Documentação - Instalação do Pyomo + GLPK](https://pyomo.readthedocs.io/en/stable/installation.html#using-conda)\n",
    "\n",
    "[Vídeo aula - Instalação do Pyomo + GLPK](https://www.youtube.com/watch?v=ohfL9j47tAc&list=PLB0Bkje224EHp-IPd9i_FADBXXQcft5L6&index=4&t=9s)\n",
    "\n",
    "[Contato](https://acsjunior.com)"
   ]
  },
  {
   "cell_type": "code",
   "execution_count": null,
   "id": "1508a2f0",
   "metadata": {},
   "outputs": [],
   "source": []
  }
 ],
 "metadata": {
  "kernelspec": {
   "display_name": "Python 3",
   "language": "python",
   "name": "python3"
  },
  "language_info": {
   "codemirror_mode": {
    "name": "ipython",
    "version": 3
   },
   "file_extension": ".py",
   "mimetype": "text/x-python",
   "name": "python",
   "nbconvert_exporter": "python",
   "pygments_lexer": "ipython3",
   "version": "3.7.10"
  }
 },
 "nbformat": 4,
 "nbformat_minor": 5
}
