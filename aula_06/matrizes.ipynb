{
 "cells": [
  {
   "cell_type": "markdown",
   "id": "d88b465f",
   "metadata": {},
   "source": [
    "## Links úteis:\n",
    "\n",
    "[Manual de uso do Pyomo](http://www.opl.ufc.br/files/Manual_Pyomo_2020.pdf)\n",
    "\n",
    "[Playlist de Programação Linear - Cassius Scarpin](https://www.youtube.com/playlist?list=PLY8sfsQRSw792jf1y1KDvRYbL5QMB5CoG)\n",
    "\n",
    "[Vídeo aula - Lidando com matrizes, índices e somatórios em Python]()\n",
    "\n",
    "[Contato](https://acsjunior.com)"
   ]
  },
  {
   "cell_type": "markdown",
   "id": "966475d1",
   "metadata": {},
   "source": [
    "$\\mathbf{x} = \\begin{bmatrix}\n",
    "10 & 30 & 20 \\\\ \n",
    "40 & 60 &  50\n",
    "\\end{bmatrix}$"
   ]
  },
  {
   "cell_type": "code",
   "execution_count": 1,
   "id": "dd1e4fe1",
   "metadata": {},
   "outputs": [],
   "source": [
    "x = [[10, 30, 20], \n",
    "     [40, 60, 50]]"
   ]
  },
  {
   "cell_type": "code",
   "execution_count": 2,
   "id": "1d40e043",
   "metadata": {},
   "outputs": [
    {
     "data": {
      "text/plain": [
       "[[10, 30, 20], [40, 60, 50]]"
      ]
     },
     "execution_count": 2,
     "metadata": {},
     "output_type": "execute_result"
    }
   ],
   "source": [
    "x"
   ]
  },
  {
   "cell_type": "markdown",
   "id": "3e4acc29",
   "metadata": {},
   "source": [
    "$x_{11}$"
   ]
  },
  {
   "cell_type": "code",
   "execution_count": 3,
   "id": "380d7c5a",
   "metadata": {},
   "outputs": [
    {
     "data": {
      "text/plain": [
       "10"
      ]
     },
     "execution_count": 3,
     "metadata": {},
     "output_type": "execute_result"
    }
   ],
   "source": [
    "x[0][0]"
   ]
  },
  {
   "cell_type": "markdown",
   "id": "62aba647",
   "metadata": {},
   "source": [
    "$x_{21}$"
   ]
  },
  {
   "cell_type": "code",
   "execution_count": 4,
   "id": "cdb9ab2c",
   "metadata": {},
   "outputs": [
    {
     "data": {
      "text/plain": [
       "40"
      ]
     },
     "execution_count": 4,
     "metadata": {},
     "output_type": "execute_result"
    }
   ],
   "source": [
    "x[1][0]"
   ]
  },
  {
   "cell_type": "markdown",
   "id": "afef3062",
   "metadata": {},
   "source": [
    "$x_{23}$"
   ]
  },
  {
   "cell_type": "code",
   "execution_count": 5,
   "id": "a0a146dc",
   "metadata": {},
   "outputs": [
    {
     "data": {
      "text/plain": [
       "50"
      ]
     },
     "execution_count": 5,
     "metadata": {},
     "output_type": "execute_result"
    }
   ],
   "source": [
    "x[1][2]"
   ]
  },
  {
   "cell_type": "markdown",
   "id": "15f930c7",
   "metadata": {},
   "source": [
    "$I \\colon \\{1,\\ldots, m\\}$\n",
    "\n",
    "$J \\colon \\{1,\\ldots, n\\}$"
   ]
  },
  {
   "cell_type": "code",
   "execution_count": 6,
   "id": "c1b804fc",
   "metadata": {},
   "outputs": [],
   "source": [
    "m = len(x)"
   ]
  },
  {
   "cell_type": "code",
   "execution_count": 7,
   "id": "f7e7eaa3",
   "metadata": {},
   "outputs": [
    {
     "data": {
      "text/plain": [
       "2"
      ]
     },
     "execution_count": 7,
     "metadata": {},
     "output_type": "execute_result"
    }
   ],
   "source": [
    "m"
   ]
  },
  {
   "cell_type": "code",
   "execution_count": 8,
   "id": "1de8465d",
   "metadata": {},
   "outputs": [],
   "source": [
    "n = len(x[0])"
   ]
  },
  {
   "cell_type": "code",
   "execution_count": 9,
   "id": "0e42f3db",
   "metadata": {},
   "outputs": [
    {
     "data": {
      "text/plain": [
       "3"
      ]
     },
     "execution_count": 9,
     "metadata": {},
     "output_type": "execute_result"
    }
   ],
   "source": [
    "n"
   ]
  },
  {
   "cell_type": "code",
   "execution_count": 10,
   "id": "9daea480",
   "metadata": {},
   "outputs": [],
   "source": [
    "I = range(m)"
   ]
  },
  {
   "cell_type": "code",
   "execution_count": 11,
   "id": "c4309f03",
   "metadata": {},
   "outputs": [
    {
     "data": {
      "text/plain": [
       "[0, 1]"
      ]
     },
     "execution_count": 11,
     "metadata": {},
     "output_type": "execute_result"
    }
   ],
   "source": [
    "[i for i in I]"
   ]
  },
  {
   "cell_type": "code",
   "execution_count": 12,
   "id": "85870f6e",
   "metadata": {},
   "outputs": [],
   "source": [
    "J = range(n)"
   ]
  },
  {
   "cell_type": "code",
   "execution_count": 13,
   "id": "69f51e47",
   "metadata": {},
   "outputs": [
    {
     "data": {
      "text/plain": [
       "[0, 1, 2]"
      ]
     },
     "execution_count": 13,
     "metadata": {},
     "output_type": "execute_result"
    }
   ],
   "source": [
    "[j for j in J]"
   ]
  },
  {
   "cell_type": "markdown",
   "id": "4c48e840",
   "metadata": {},
   "source": [
    "$x_{ij} \\;\\; \\forall i \\in I, \\forall j \\in J$"
   ]
  },
  {
   "cell_type": "code",
   "execution_count": 14,
   "id": "71fee425",
   "metadata": {},
   "outputs": [
    {
     "data": {
      "text/plain": [
       "[10, 30, 20, 40, 60, 50]"
      ]
     },
     "execution_count": 14,
     "metadata": {},
     "output_type": "execute_result"
    }
   ],
   "source": [
    "[x[i][j] for i in I for j in J]"
   ]
  },
  {
   "cell_type": "markdown",
   "id": "54747492",
   "metadata": {},
   "source": [
    "$x_{ij} \\;\\; \\forall j \\in J, \\forall i \\in I$"
   ]
  },
  {
   "cell_type": "code",
   "execution_count": 15,
   "id": "7ec8dfda",
   "metadata": {},
   "outputs": [
    {
     "data": {
      "text/plain": [
       "[10, 40, 30, 60, 20, 50]"
      ]
     },
     "execution_count": 15,
     "metadata": {},
     "output_type": "execute_result"
    }
   ],
   "source": [
    "[x[i][j] for j in J for i in I]"
   ]
  },
  {
   "cell_type": "markdown",
   "id": "2488e62e",
   "metadata": {},
   "source": [
    "$\\sum\\limits_{i \\in I} x_{ij}, \\;\\; \\forall j \\in J$"
   ]
  },
  {
   "cell_type": "code",
   "execution_count": 16,
   "id": "908c8ac2",
   "metadata": {},
   "outputs": [
    {
     "name": "stdout",
     "output_type": "stream",
     "text": [
      "50\n",
      "90\n",
      "70\n"
     ]
    }
   ],
   "source": [
    "for j in J:\n",
    "    print(sum(x[i][j] for i in I))"
   ]
  },
  {
   "cell_type": "markdown",
   "id": "3d7a0d57",
   "metadata": {},
   "source": [
    "$\\sum\\limits_{j \\in J} x_{ij}, \\;\\; \\forall i \\in I$"
   ]
  },
  {
   "cell_type": "code",
   "execution_count": 17,
   "id": "de0c0dd8",
   "metadata": {},
   "outputs": [
    {
     "name": "stdout",
     "output_type": "stream",
     "text": [
      "60\n",
      "150\n"
     ]
    }
   ],
   "source": [
    "for i in I:\n",
    "    print(sum(x[i][j] for j in J))"
   ]
  },
  {
   "cell_type": "code",
   "execution_count": null,
   "id": "bf74897d",
   "metadata": {},
   "outputs": [],
   "source": []
  }
 ],
 "metadata": {
  "kernelspec": {
   "display_name": "Python 3",
   "language": "python",
   "name": "python3"
  },
  "language_info": {
   "codemirror_mode": {
    "name": "ipython",
    "version": 3
   },
   "file_extension": ".py",
   "mimetype": "text/x-python",
   "name": "python",
   "nbconvert_exporter": "python",
   "pygments_lexer": "ipython3",
   "version": "3.7.10"
  }
 },
 "nbformat": 4,
 "nbformat_minor": 5
}
