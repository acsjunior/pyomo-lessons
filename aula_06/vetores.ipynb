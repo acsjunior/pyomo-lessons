{
 "cells": [
  {
   "cell_type": "markdown",
   "id": "03f89eb2",
   "metadata": {},
   "source": [
    "## Links úteis:\n",
    "\n",
    "[Manual de uso do Pyomo](http://www.opl.ufc.br/files/Manual_Pyomo_2020.pdf)\n",
    "\n",
    "[Playlist de Programação Linear - Cassius Scarpin](https://www.youtube.com/playlist?list=PLY8sfsQRSw792jf1y1KDvRYbL5QMB5CoG)\n",
    "\n",
    "[Vídeo aula - Lidando com vetores, índices e somatórios em Python]()\n",
    "\n",
    "[Contato](https://acsjunior.com)"
   ]
  },
  {
   "cell_type": "markdown",
   "id": "e03b571a",
   "metadata": {},
   "source": [
    "$\\mathbf{x} = \\begin{bmatrix}\n",
    "10 \\\\ \n",
    "30 \\\\ \n",
    "20 \\\\\n",
    "40\n",
    "\\end{bmatrix}$"
   ]
  },
  {
   "cell_type": "code",
   "execution_count": 1,
   "id": "094a7f5b",
   "metadata": {},
   "outputs": [],
   "source": [
    "x = [10, 30, 20, 40]"
   ]
  },
  {
   "cell_type": "code",
   "execution_count": 2,
   "id": "fb136798",
   "metadata": {},
   "outputs": [
    {
     "data": {
      "text/plain": [
       "[10, 30, 20, 40]"
      ]
     },
     "execution_count": 2,
     "metadata": {},
     "output_type": "execute_result"
    }
   ],
   "source": [
    "x"
   ]
  },
  {
   "cell_type": "markdown",
   "id": "365831db",
   "metadata": {},
   "source": [
    "$x_1$"
   ]
  },
  {
   "cell_type": "code",
   "execution_count": 3,
   "id": "f06edeb4",
   "metadata": {},
   "outputs": [
    {
     "data": {
      "text/plain": [
       "10"
      ]
     },
     "execution_count": 3,
     "metadata": {},
     "output_type": "execute_result"
    }
   ],
   "source": [
    "x[0]"
   ]
  },
  {
   "cell_type": "markdown",
   "id": "6c238927",
   "metadata": {},
   "source": [
    "$x_2$"
   ]
  },
  {
   "cell_type": "code",
   "execution_count": 4,
   "id": "09490bb8",
   "metadata": {},
   "outputs": [
    {
     "data": {
      "text/plain": [
       "30"
      ]
     },
     "execution_count": 4,
     "metadata": {},
     "output_type": "execute_result"
    }
   ],
   "source": [
    "x[1]"
   ]
  },
  {
   "cell_type": "markdown",
   "id": "6e99b3d9",
   "metadata": {},
   "source": [
    "$x_3$"
   ]
  },
  {
   "cell_type": "code",
   "execution_count": 5,
   "id": "ba44fb15",
   "metadata": {},
   "outputs": [
    {
     "data": {
      "text/plain": [
       "20"
      ]
     },
     "execution_count": 5,
     "metadata": {},
     "output_type": "execute_result"
    }
   ],
   "source": [
    "x[2]"
   ]
  },
  {
   "cell_type": "markdown",
   "id": "bdc54f3f",
   "metadata": {},
   "source": [
    "$x_4$"
   ]
  },
  {
   "cell_type": "code",
   "execution_count": 6,
   "id": "91d69d22",
   "metadata": {},
   "outputs": [
    {
     "data": {
      "text/plain": [
       "40"
      ]
     },
     "execution_count": 6,
     "metadata": {},
     "output_type": "execute_result"
    }
   ],
   "source": [
    "x[3]"
   ]
  },
  {
   "cell_type": "code",
   "execution_count": 7,
   "id": "b3dca806",
   "metadata": {},
   "outputs": [
    {
     "ename": "IndexError",
     "evalue": "list index out of range",
     "output_type": "error",
     "traceback": [
      "\u001b[0;31m---------------------------------------------------------------------------\u001b[0m",
      "\u001b[0;31mIndexError\u001b[0m                                Traceback (most recent call last)",
      "\u001b[0;32m<ipython-input-7-cedd7ac36334>\u001b[0m in \u001b[0;36m<module>\u001b[0;34m\u001b[0m\n\u001b[0;32m----> 1\u001b[0;31m \u001b[0mx\u001b[0m\u001b[0;34m[\u001b[0m\u001b[0;36m4\u001b[0m\u001b[0;34m]\u001b[0m\u001b[0;34m\u001b[0m\u001b[0;34m\u001b[0m\u001b[0m\n\u001b[0m",
      "\u001b[0;31mIndexError\u001b[0m: list index out of range"
     ]
    }
   ],
   "source": [
    "x[4]"
   ]
  },
  {
   "cell_type": "markdown",
   "id": "737a53b6",
   "metadata": {},
   "source": [
    "$I \\colon \\{1,2,\\ldots, m\\}$"
   ]
  },
  {
   "cell_type": "code",
   "execution_count": 8,
   "id": "fb3825f9",
   "metadata": {},
   "outputs": [],
   "source": [
    "m = len(x)"
   ]
  },
  {
   "cell_type": "code",
   "execution_count": 9,
   "id": "853f1d72",
   "metadata": {},
   "outputs": [
    {
     "data": {
      "text/plain": [
       "4"
      ]
     },
     "execution_count": 9,
     "metadata": {},
     "output_type": "execute_result"
    }
   ],
   "source": [
    "m"
   ]
  },
  {
   "cell_type": "code",
   "execution_count": 14,
   "id": "e411298a",
   "metadata": {},
   "outputs": [],
   "source": [
    "I = range(m)"
   ]
  },
  {
   "cell_type": "code",
   "execution_count": 15,
   "id": "0a75ec2e",
   "metadata": {},
   "outputs": [
    {
     "data": {
      "text/plain": [
       "[0, 1, 2, 3]"
      ]
     },
     "execution_count": 15,
     "metadata": {},
     "output_type": "execute_result"
    }
   ],
   "source": [
    "[i for i in I]"
   ]
  },
  {
   "cell_type": "markdown",
   "id": "0ac84cd3",
   "metadata": {},
   "source": [
    "$x_i \\;\\; \\forall i \\in I$"
   ]
  },
  {
   "cell_type": "code",
   "execution_count": 16,
   "id": "a2cd2265",
   "metadata": {},
   "outputs": [
    {
     "data": {
      "text/plain": [
       "[10, 30, 20, 40]"
      ]
     },
     "execution_count": 16,
     "metadata": {},
     "output_type": "execute_result"
    }
   ],
   "source": [
    "[x[i] for i in I]"
   ]
  },
  {
   "cell_type": "markdown",
   "id": "8e5f60c2",
   "metadata": {},
   "source": [
    "$\\sum\\limits_{i \\in I} x_{i}$"
   ]
  },
  {
   "cell_type": "code",
   "execution_count": 17,
   "id": "a88d2f17",
   "metadata": {},
   "outputs": [
    {
     "data": {
      "text/plain": [
       "100"
      ]
     },
     "execution_count": 17,
     "metadata": {},
     "output_type": "execute_result"
    }
   ],
   "source": [
    "sum(x[i] for i in I)"
   ]
  },
  {
   "cell_type": "markdown",
   "id": "6613649e",
   "metadata": {},
   "source": [
    "$\\sum\\limits_{i \\in I} x_{i}, \\;\\; i \\gt 2$"
   ]
  },
  {
   "cell_type": "code",
   "execution_count": 18,
   "id": "0459a756",
   "metadata": {},
   "outputs": [
    {
     "data": {
      "text/plain": [
       "60"
      ]
     },
     "execution_count": 18,
     "metadata": {},
     "output_type": "execute_result"
    }
   ],
   "source": [
    "sum(x[i] for i in I if i > 1)"
   ]
  },
  {
   "cell_type": "code",
   "execution_count": null,
   "id": "ea82ec22",
   "metadata": {},
   "outputs": [],
   "source": []
  }
 ],
 "metadata": {
  "kernelspec": {
   "display_name": "Python 3",
   "language": "python",
   "name": "python3"
  },
  "language_info": {
   "codemirror_mode": {
    "name": "ipython",
    "version": 3
   },
   "file_extension": ".py",
   "mimetype": "text/x-python",
   "name": "python",
   "nbconvert_exporter": "python",
   "pygments_lexer": "ipython3",
   "version": "3.7.10"
  }
 },
 "nbformat": 4,
 "nbformat_minor": 5
}
