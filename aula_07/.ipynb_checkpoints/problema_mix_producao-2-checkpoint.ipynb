{
 "cells": [
  {
   "cell_type": "markdown",
   "id": "b549d2d6",
   "metadata": {},
   "source": [
    "[Manual de uso do Pyomo](http://www.opl.ufc.br/files/Manual_Pyomo_2020.pdf)\n",
    "\n",
    "[Playlist de Programação Linear - Cassius Scarpin](https://www.youtube.com/playlist?list=PLY8sfsQRSw792jf1y1KDvRYbL5QMB5CoG)\n",
    "\n",
    "[Tópicos de matemática para cientistas de dados - Wagner Bonat](http://leg.ufpr.br/~wagner/TMCD/MN.html#programação-linear)\n",
    "\n",
    "[Vídeo aula - Modelando o problema do mix de produção](https://www.youtube.com/watch?v=QFZ2UL2baHg&list=PLB0Bkje224EHp-IPd9i_FADBXXQcft5L6&index=10)\n",
    "\n",
    "[Contato](https://acsjunior.com)"
   ]
  },
  {
   "cell_type": "markdown",
   "id": "5407009a",
   "metadata": {},
   "source": [
    "(Belfiore e Fávero) A empresa Venix de brinquedos está revendo seu planejamento de produção de carrinhos e triciclos. \n",
    "\n",
    "O lucro líquido por unidade de carrinho e triciclo produzido é de $\\text{R\\$}12,00$ e $\\text{R\\$}60,00$, respectivamente. \n",
    "\n",
    "As matérias primas e os insumos necessários para a fabricação de cada um dos produtos são terceirizados, cabendo à empresa os processos de usinagem, pintura e montagem. \n",
    "\n",
    "O processo de usinagem requer 15 minutos de mão de obra especializada por unidade de carrinho e 30 minutos por unidade de triciclo produzida. \n",
    "\n",
    "O processo de pintura requer 6 minutos de mão de obra especializada por unidade de carrinho e 45 minutos por unidade de triciclo produzida. \n",
    "\n",
    "Já o processo de montagem necessita de 6 minutos e 24 minutos para uma unidade de carrinho e de triciclo produzida, respectivamente. \n",
    "\n",
    "O tempo disponível por semana é de 36, 22 e 15 horas para os processos de usinagem, pintura e montagem, respectivamente. \n",
    "\n",
    "A empresa quer determinar quanto produzir de cada produto por semana, respeitando as limitações de recursos, de forma a maximizar o lucro líquido semanal. Formular o problema de programação linear que maximiza o lucro líquido da empresa Venix.\n",
    "\n",
    "\n",
    "\n",
    "|  | carrinho | triciclo |\n",
    "|:--- |:---:|:---:|\n",
    "| <b>Lucro (R$)</b> | 12 | 60 |\n",
    "\n",
    "\n",
    "|  | carrinho | triciclo | disponib. (h) |\n",
    "|:--- |:---:|:---:|:---:|\n",
    "| <b>Usinagem</b> | 0,25 | 0,5 | 36 |\n",
    "| <b>Pintura</b> | 0,1 | 0,75 | 22 |\n",
    "| <b>Montagem</b> | 0,1 | 0,4 | 15 |"
   ]
  },
  {
   "cell_type": "markdown",
   "id": "daf78456",
   "metadata": {},
   "source": [
    "## Variáveis de decisão\n",
    "\n",
    "$x_1 \\colon \\text{quantidade de carrinhos a serem produzidos por semana}$\n",
    "\n",
    "$x_2 \\colon \\text{quantidade de triciclos a serem produzidos por semana}$\n",
    "\n",
    "## Formulação matemática\n",
    "\n",
    "$\\text{max }z = 12x_1 + 60x_2$\n",
    "\n",
    "sujeito a\n",
    "\n",
    "1. O tempo total de mão de obra para a atividade de usinagem não pode ultrapassar 36h/ semana:\n",
    "\n",
    "$0,25x_1 + 0,5x_2 \\leq 36$ \n",
    "\n",
    "2. O tempo total de mão de obra para a atividade de pintura não pode ultrapassar 22h/ semana:\n",
    "\n",
    "$0,1x_1 + 0,75x_2 \\leq 22$\n",
    "\n",
    "3. O tempo total de mão de obra para a atividade de montagem não pode ultrapassar 15h/ semana:\n",
    "\n",
    "$0,1x_1 + 0,4x_2 \\leq 15$\n",
    "\n",
    "4. As quantidades de carrinhos e triciclos não podem ser negativas:\n",
    "\n",
    "$x_1, x_2 \\geq 0$"
   ]
  },
  {
   "cell_type": "code",
   "execution_count": 1,
   "id": "9a26e364",
   "metadata": {},
   "outputs": [],
   "source": [
    "import pyomo.environ as pyo"
   ]
  },
  {
   "cell_type": "code",
   "execution_count": 2,
   "id": "96d83ef7",
   "metadata": {},
   "outputs": [],
   "source": [
    "# Declaração do modelo:\n",
    "\n",
    "modelo = pyo.ConcreteModel()\n",
    "\n",
    "# Variáveis de decisão:\n",
    "\n",
    "modelo.x1 = pyo.Var(within=pyo.NonNegativeReals)\n",
    "modelo.x2 = pyo.Var(within=pyo.NonNegativeReals)\n",
    "\n",
    "# Função objetivo:\n",
    "\n",
    "modelo.z = pyo.Objective(expr=12*modelo.x1 + 60*modelo.x2, sense=pyo.maximize)\n",
    "\n",
    "# Restrições:\n",
    "\n",
    "modelo.restr_usinagem = pyo.Constraint(expr=0.25*modelo.x1 + 0.5*modelo.x2 <= 36)\n",
    "modelo.restr_pintura = pyo.Constraint(expr=0.1*modelo.x1 + 0.75*modelo.x2 <= 22)\n",
    "modelo.restr_montagem = pyo.Constraint(expr=0.1*modelo.x1 + 0.4*modelo.x2 <= 15)"
   ]
  },
  {
   "cell_type": "code",
   "execution_count": 3,
   "id": "25085c62",
   "metadata": {},
   "outputs": [
    {
     "name": "stdout",
     "output_type": "stream",
     "text": [
      "2 Var Declarations\n",
      "    x1 : Size=1, Index=None\n",
      "        Key  : Lower : Value : Upper : Fixed : Stale : Domain\n",
      "        None :     0 :  None :  None : False :  True : NonNegativeReals\n",
      "    x2 : Size=1, Index=None\n",
      "        Key  : Lower : Value : Upper : Fixed : Stale : Domain\n",
      "        None :     0 :  None :  None : False :  True : NonNegativeReals\n",
      "\n",
      "1 Objective Declarations\n",
      "    z : Size=1, Index=None, Active=True\n",
      "        Key  : Active : Sense    : Expression\n",
      "        None :   True : maximize : 12*x1 + 60*x2\n",
      "\n",
      "3 Constraint Declarations\n",
      "    restr_montagem : Size=1, Index=None, Active=True\n",
      "        Key  : Lower : Body            : Upper : Active\n",
      "        None :  -Inf : 0.1*x1 + 0.4*x2 :  15.0 :   True\n",
      "    restr_pintura : Size=1, Index=None, Active=True\n",
      "        Key  : Lower : Body             : Upper : Active\n",
      "        None :  -Inf : 0.1*x1 + 0.75*x2 :  22.0 :   True\n",
      "    restr_usinagem : Size=1, Index=None, Active=True\n",
      "        Key  : Lower : Body             : Upper : Active\n",
      "        None :  -Inf : 0.25*x1 + 0.5*x2 :  36.0 :   True\n",
      "\n",
      "6 Declarations: x1 x2 z restr_usinagem restr_pintura restr_montagem\n"
     ]
    }
   ],
   "source": [
    "modelo.pprint()"
   ]
  },
  {
   "cell_type": "code",
   "execution_count": 4,
   "id": "1da0485f",
   "metadata": {},
   "outputs": [],
   "source": [
    "# resultado = SolverFactory('glpk').solve(modelo)\n",
    "resultado = pyo.SolverFactory('gurobi').solve(modelo)"
   ]
  },
  {
   "cell_type": "code",
   "execution_count": 5,
   "id": "0c7dc7ce",
   "metadata": {},
   "outputs": [
    {
     "name": "stdout",
     "output_type": "stream",
     "text": [
      "# ==========================================================\n",
      "# = Solver Results                                         =\n",
      "# ==========================================================\n",
      "# ----------------------------------------------------------\n",
      "#   Problem Information\n",
      "# ----------------------------------------------------------\n",
      "Problem: \n",
      "- Name: x3\n",
      "  Lower bound: 2040.0\n",
      "  Upper bound: 2040.0\n",
      "  Number of objectives: 1\n",
      "  Number of constraints: 4\n",
      "  Number of variables: 3\n",
      "  Number of binary variables: 0\n",
      "  Number of integer variables: 0\n",
      "  Number of continuous variables: 3\n",
      "  Number of nonzeros: 7\n",
      "  Sense: maximize\n",
      "# ----------------------------------------------------------\n",
      "#   Solver Information\n",
      "# ----------------------------------------------------------\n",
      "Solver: \n",
      "- Status: ok\n",
      "  Return code: 0\n",
      "  Message: Model was solved to optimality (subject to tolerances), and an optimal solution is available.\n",
      "  Termination condition: optimal\n",
      "  Termination message: Model was solved to optimality (subject to tolerances), and an optimal solution is available.\n",
      "  Wall time: 0.00964212417602539\n",
      "  Error rc: 0\n",
      "  Time: 0.15344977378845215\n",
      "# ----------------------------------------------------------\n",
      "#   Solution Information\n",
      "# ----------------------------------------------------------\n",
      "Solution: \n",
      "- number of solutions: 0\n",
      "  number of solutions displayed: 0\n"
     ]
    }
   ],
   "source": [
    "resultado.write()"
   ]
  },
  {
   "cell_type": "code",
   "execution_count": 6,
   "id": "bfb7d868",
   "metadata": {},
   "outputs": [
    {
     "data": {
      "text/plain": [
       "70.0"
      ]
     },
     "execution_count": 6,
     "metadata": {},
     "output_type": "execute_result"
    }
   ],
   "source": [
    "modelo.x1()"
   ]
  },
  {
   "cell_type": "code",
   "execution_count": 7,
   "id": "7d20076e",
   "metadata": {},
   "outputs": [
    {
     "data": {
      "text/plain": [
       "20.0"
      ]
     },
     "execution_count": 7,
     "metadata": {},
     "output_type": "execute_result"
    }
   ],
   "source": [
    "modelo.x2()"
   ]
  },
  {
   "cell_type": "code",
   "execution_count": 8,
   "id": "946c4dbb",
   "metadata": {},
   "outputs": [
    {
     "data": {
      "text/plain": [
       "2040.0"
      ]
     },
     "execution_count": 8,
     "metadata": {},
     "output_type": "execute_result"
    }
   ],
   "source": [
    "modelo.z()"
   ]
  },
  {
   "cell_type": "markdown",
   "id": "ba6210d4",
   "metadata": {},
   "source": [
    "## Representação matricial\n",
    "\n",
    "### Função objetivo\n",
    "\n",
    "$\\max z = \\mathbf{c}^T\\mathbf{x}$\n",
    "\n",
    "### Restrições\n",
    "\n",
    "$\\mathbf{Ax} \\leq \\mathbf{b}$\n",
    "\n",
    "$\\mathbf{x} \\geq \\mathbf{0}$\n",
    "\n",
    "<hr>\n",
    "\n",
    "## Representação Genérica\n",
    "\n",
    "### Índices / Conjuntos:\n",
    "\n",
    "$I \\colon \\{1, \\ldots, m\\}$\n",
    "\n",
    "$J \\colon \\{1, \\ldots n\\}$\n",
    "\n",
    "### Parâmetros:\n",
    "\n",
    "$c_j \\colon \\text{lucro líquido por unidade do produto } j \\in J \\text{ produzido}$\n",
    "\n",
    "$a_{ij} \\colon \\text{quantidade de horas necessárias para a execução do processo } i \\in I \\text{ na fabricação do produto } j \\in J$\n",
    "\n",
    "$b_i \\colon \\text{quantidade de horas disponíveis para execução do processo } i \\in I$\n",
    "\n",
    "### Variáveis de decisão:\n",
    "\n",
    "$x_j \\colon \\text{quantidade a ser fabricada do produto } j \\in J \\text{ por semana}$\n",
    "\n",
    "### Modelo matemático:\n",
    "\n",
    "$ \\mathrm{max} \\; z = \\sum\\limits_{j \\in J} c_j x_{j}$\n",
    "\n",
    "sujeito a:\n",
    "\n",
    "$\\sum\\limits_{j \\in J} a_{ij} x_{j} \\leq b_{i}, \\;\\; \\forall \\; i \\in I$\n",
    "\n",
    "$x_{j} \\geq 0 \\;\\; \\forall j \\in J$"
   ]
  },
  {
   "cell_type": "code",
   "execution_count": 9,
   "id": "56845b2c",
   "metadata": {},
   "outputs": [],
   "source": [
    "# Dados de entrada:\n",
    "\n",
    "c = [12, 60]\n",
    "\n",
    "a = [[0.25, 0.5], \n",
    "     [0.1, 0.75], \n",
    "     [0.1, 0.4]]\n",
    "\n",
    "b = [36, 22, 15]\n",
    "\n",
    "m = len(b)\n",
    "n = len(c)"
   ]
  },
  {
   "cell_type": "code",
   "execution_count": 10,
   "id": "885f3a16",
   "metadata": {},
   "outputs": [],
   "source": [
    "# Declaração do modelo:\n",
    "\n",
    "modelo2 = pyo.ConcreteModel()\n",
    "\n",
    "\n",
    "# Índices:\n",
    "\n",
    "modelo2.I = range(m)\n",
    "modelo2.J = range(n)\n",
    "\n",
    "\n",
    "# Parâmetros:\n",
    "\n",
    "modelo2.c = pyo.Param(modelo2.J, initialize=lambda modelo2, j: c[j])\n",
    "modelo2.a = pyo.Param(modelo2.I, modelo2.J, initialize=lambda modelo2, i, j: a[i][j])\n",
    "modelo2.b = pyo.Param(modelo2.I, initialize=lambda modelo2, i: b[i])\n",
    "\n",
    "\n",
    "# Variáveis de decisão:\n",
    "\n",
    "modelo2.x = pyo.Var(modelo2.J, within=pyo.NonNegativeReals)\n",
    "\n",
    "\n",
    "# Função objetivo:\n",
    "\n",
    "def regra_z(mod):\n",
    "    return pyo.summation(mod.c, mod.x)\n",
    "\n",
    "modelo2.z = pyo.Objective(rule=regra_z, sense=pyo.maximize)\n",
    "\n",
    "\n",
    "# Restrições:\n",
    "\n",
    "def regra_disp_mo(mod, i):\n",
    "    return sum(mod.a[i,j] * mod.x[j] for j in mod.J) <= mod.b[i]\n",
    "\n",
    "modelo2.restr_disp_mo = pyo.Constraint(modelo2.I, rule=regra_disp_mo)"
   ]
  },
  {
   "cell_type": "code",
   "execution_count": 11,
   "id": "225c8054",
   "metadata": {},
   "outputs": [
    {
     "name": "stdout",
     "output_type": "stream",
     "text": [
      "7 Set Declarations\n",
      "    a_index : Size=1, Index=None, Ordered=False\n",
      "        Key  : Dimen : Domain              : Size : Members\n",
      "        None :     2 : a_index_0*a_index_1 :    6 : {(0, 0), (0, 1), (1, 0), (1, 1), (2, 0), (2, 1)}\n",
      "    a_index_0 : Size=1, Index=None, Ordered=False\n",
      "        Key  : Dimen : Domain : Size : Members\n",
      "        None :     1 :    Any :    3 : {0, 1, 2}\n",
      "    a_index_1 : Size=1, Index=None, Ordered=False\n",
      "        Key  : Dimen : Domain : Size : Members\n",
      "        None :     1 :    Any :    2 : {0, 1}\n",
      "    b_index : Size=1, Index=None, Ordered=False\n",
      "        Key  : Dimen : Domain : Size : Members\n",
      "        None :     1 :    Any :    3 : {0, 1, 2}\n",
      "    c_index : Size=1, Index=None, Ordered=False\n",
      "        Key  : Dimen : Domain : Size : Members\n",
      "        None :     1 :    Any :    2 : {0, 1}\n",
      "    restr_disp_mo_index : Size=1, Index=None, Ordered=False\n",
      "        Key  : Dimen : Domain : Size : Members\n",
      "        None :     1 :    Any :    3 : {0, 1, 2}\n",
      "    x_index : Size=1, Index=None, Ordered=False\n",
      "        Key  : Dimen : Domain : Size : Members\n",
      "        None :     1 :    Any :    2 : {0, 1}\n",
      "\n",
      "3 Param Declarations\n",
      "    a : Size=6, Index=a_index, Domain=Any, Default=None, Mutable=False\n",
      "        Key    : Value\n",
      "        (0, 0) :  0.25\n",
      "        (0, 1) :   0.5\n",
      "        (1, 0) :   0.1\n",
      "        (1, 1) :  0.75\n",
      "        (2, 0) :   0.1\n",
      "        (2, 1) :   0.4\n",
      "    b : Size=3, Index=b_index, Domain=Any, Default=None, Mutable=False\n",
      "        Key : Value\n",
      "          0 :    36\n",
      "          1 :    22\n",
      "          2 :    15\n",
      "    c : Size=2, Index=c_index, Domain=Any, Default=None, Mutable=False\n",
      "        Key : Value\n",
      "          0 :    12\n",
      "          1 :    60\n",
      "\n",
      "1 Var Declarations\n",
      "    x : Size=2, Index=x_index\n",
      "        Key : Lower : Value : Upper : Fixed : Stale : Domain\n",
      "          0 :     0 :  None :  None : False :  True : NonNegativeReals\n",
      "          1 :     0 :  None :  None : False :  True : NonNegativeReals\n",
      "\n",
      "1 Objective Declarations\n",
      "    z : Size=1, Index=None, Active=True\n",
      "        Key  : Active : Sense    : Expression\n",
      "        None :   True : maximize : 12*x[0] + 60*x[1]\n",
      "\n",
      "1 Constraint Declarations\n",
      "    restr_disp_mo : Size=3, Index=restr_disp_mo_index, Active=True\n",
      "        Key : Lower : Body                 : Upper : Active\n",
      "          0 :  -Inf : 0.25*x[0] + 0.5*x[1] :  36.0 :   True\n",
      "          1 :  -Inf : 0.1*x[0] + 0.75*x[1] :  22.0 :   True\n",
      "          2 :  -Inf :  0.1*x[0] + 0.4*x[1] :  15.0 :   True\n",
      "\n",
      "13 Declarations: c_index c a_index_0 a_index_1 a_index a b_index b x_index x z restr_disp_mo_index restr_disp_mo\n"
     ]
    }
   ],
   "source": [
    "modelo2.pprint()"
   ]
  },
  {
   "cell_type": "code",
   "execution_count": 12,
   "id": "0609ec6a",
   "metadata": {},
   "outputs": [],
   "source": [
    "# resultado = SolverFactory('glpk').solve(modelo)\n",
    "resultado2 = pyo.SolverFactory('gurobi').solve(modelo2)"
   ]
  },
  {
   "cell_type": "code",
   "execution_count": 13,
   "id": "05b4028a",
   "metadata": {},
   "outputs": [
    {
     "name": "stdout",
     "output_type": "stream",
     "text": [
      "# ==========================================================\n",
      "# = Solver Results                                         =\n",
      "# ==========================================================\n",
      "# ----------------------------------------------------------\n",
      "#   Problem Information\n",
      "# ----------------------------------------------------------\n",
      "Problem: \n",
      "- Name: x3\n",
      "  Lower bound: 2040.0\n",
      "  Upper bound: 2040.0\n",
      "  Number of objectives: 1\n",
      "  Number of constraints: 4\n",
      "  Number of variables: 3\n",
      "  Number of binary variables: 0\n",
      "  Number of integer variables: 0\n",
      "  Number of continuous variables: 3\n",
      "  Number of nonzeros: 7\n",
      "  Sense: maximize\n",
      "# ----------------------------------------------------------\n",
      "#   Solver Information\n",
      "# ----------------------------------------------------------\n",
      "Solver: \n",
      "- Status: ok\n",
      "  Return code: 0\n",
      "  Message: Model was solved to optimality (subject to tolerances), and an optimal solution is available.\n",
      "  Termination condition: optimal\n",
      "  Termination message: Model was solved to optimality (subject to tolerances), and an optimal solution is available.\n",
      "  Wall time: 0.007389068603515625\n",
      "  Error rc: 0\n",
      "  Time: 0.15035128593444824\n",
      "# ----------------------------------------------------------\n",
      "#   Solution Information\n",
      "# ----------------------------------------------------------\n",
      "Solution: \n",
      "- number of solutions: 0\n",
      "  number of solutions displayed: 0\n"
     ]
    }
   ],
   "source": [
    "resultado2.write()"
   ]
  },
  {
   "cell_type": "code",
   "execution_count": 14,
   "id": "d657c7a0",
   "metadata": {},
   "outputs": [
    {
     "name": "stdout",
     "output_type": "stream",
     "text": [
      "x : Size=2, Index=x_index\n",
      "    Key : Lower : Value : Upper : Fixed : Stale : Domain\n",
      "      0 :     0 :  70.0 :  None : False : False : NonNegativeReals\n",
      "      1 :     0 :  20.0 :  None : False : False : NonNegativeReals\n"
     ]
    }
   ],
   "source": [
    "modelo2.x.pprint()"
   ]
  },
  {
   "cell_type": "code",
   "execution_count": 15,
   "id": "4e8c9f8b",
   "metadata": {},
   "outputs": [
    {
     "data": {
      "text/plain": [
       "70.0"
      ]
     },
     "execution_count": 15,
     "metadata": {},
     "output_type": "execute_result"
    }
   ],
   "source": [
    "modelo2.x[0]()"
   ]
  },
  {
   "cell_type": "code",
   "execution_count": 16,
   "id": "7620d419",
   "metadata": {},
   "outputs": [
    {
     "data": {
      "text/plain": [
       "20.0"
      ]
     },
     "execution_count": 16,
     "metadata": {},
     "output_type": "execute_result"
    }
   ],
   "source": [
    "modelo2.x[1]()"
   ]
  },
  {
   "cell_type": "code",
   "execution_count": 17,
   "id": "1be8d8b7",
   "metadata": {},
   "outputs": [
    {
     "data": {
      "text/plain": [
       "2040.0"
      ]
     },
     "execution_count": 17,
     "metadata": {},
     "output_type": "execute_result"
    }
   ],
   "source": [
    "modelo2.z()"
   ]
  },
  {
   "cell_type": "code",
   "execution_count": null,
   "id": "ab11c6fc",
   "metadata": {},
   "outputs": [],
   "source": []
  }
 ],
 "metadata": {
  "kernelspec": {
   "display_name": "Python 3",
   "language": "python",
   "name": "python3"
  },
  "language_info": {
   "codemirror_mode": {
    "name": "ipython",
    "version": 3
   },
   "file_extension": ".py",
   "mimetype": "text/x-python",
   "name": "python",
   "nbconvert_exporter": "python",
   "pygments_lexer": "ipython3",
   "version": "3.7.10"
  }
 },
 "nbformat": 4,
 "nbformat_minor": 5
}
