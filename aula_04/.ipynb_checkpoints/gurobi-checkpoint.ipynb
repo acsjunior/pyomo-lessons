{
 "cells": [
  {
   "cell_type": "markdown",
   "id": "72ed79ec",
   "metadata": {},
   "source": [
    "## Links úteis:\n",
    "\n",
    "[Manual de uso do Pyomo](http://www.opl.ufc.br/files/Manual_Pyomo_2020.pdf)\n",
    "\n",
    "[Página do Gurobi](https://www.gurobi.com)\n",
    "\n",
    "[Documentação - Instalação do Gurobi no Python](https://support.gurobi.com/hc/en-us/articles/360044290292-How-do-I-install-Gurobi-for-Python-)\n",
    "\n",
    "[Vídeo aula - Obtendo uma licença a acadêmica do Gurobi e realizando a instalação no Python](https://www.youtube.com/watch?v=B8fY4ZJJ9-U&list=PLB0Bkje224EHp-IPd9i_FADBXXQcft5L6&index=5&t=13s)\n",
    "\n",
    "[Contato](https://acsjunior.com)"
   ]
  },
  {
   "cell_type": "code",
   "execution_count": null,
   "id": "de399336",
   "metadata": {},
   "outputs": [],
   "source": []
  }
 ],
 "metadata": {
  "kernelspec": {
   "display_name": "Python 3",
   "language": "python",
   "name": "python3"
  },
  "language_info": {
   "codemirror_mode": {
    "name": "ipython",
    "version": 3
   },
   "file_extension": ".py",
   "mimetype": "text/x-python",
   "name": "python",
   "nbconvert_exporter": "python",
   "pygments_lexer": "ipython3",
   "version": "3.7.10"
  }
 },
 "nbformat": 4,
 "nbformat_minor": 5
}
