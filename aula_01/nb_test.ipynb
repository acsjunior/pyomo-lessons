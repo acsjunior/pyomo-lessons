{
 "cells": [
  {
   "cell_type": "markdown",
   "id": "821f96be",
   "metadata": {},
   "source": [
    "## Links úteis:\n",
    "\n",
    "[Manual de uso do Pyomo](http://www.opl.ufc.br/files/Manual_Pyomo_2020.pdf)\n",
    "\n",
    "[Documentação - Instalação do Anaconda](https://www.youtube.com/watch?v=iyhrdOH78Gw&list=PLB0Bkje224EHp-IPd9i_FADBXXQcft5L6&index=2&t=4s)\n",
    "\n",
    "[Vídeo aula - Instalação do Anaconda, criação do ambiente virtual e instalação do Jupyter Notebook](https://www.youtube.com/watch?v=iyhrdOH78Gw&list=PLB0Bkje224EHp-IPd9i_FADBXXQcft5L6&index=2&t=4s)\n",
    "\n",
    "[Contato](https://acsjunior.com)"
   ]
  },
  {
   "cell_type": "code",
   "execution_count": 1,
   "id": "80a0522a",
   "metadata": {},
   "outputs": [
    {
     "data": {
      "text/plain": [
       "25"
      ]
     },
     "execution_count": 1,
     "metadata": {},
     "output_type": "execute_result"
    }
   ],
   "source": [
    "x = 10\n",
    "y = 15\n",
    "\n",
    "x + y"
   ]
  }
 ],
 "metadata": {
  "kernelspec": {
   "display_name": "Python 3",
   "language": "python",
   "name": "python3"
  },
  "language_info": {
   "codemirror_mode": {
    "name": "ipython",
    "version": 3
   },
   "file_extension": ".py",
   "mimetype": "text/x-python",
   "name": "python",
   "nbconvert_exporter": "python",
   "pygments_lexer": "ipython3",
   "version": "3.7.10"
  }
 },
 "nbformat": 4,
 "nbformat_minor": 5
}
