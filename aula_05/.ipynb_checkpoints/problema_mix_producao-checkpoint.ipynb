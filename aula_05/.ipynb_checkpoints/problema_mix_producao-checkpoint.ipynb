{
 "cells": [
  {
   "cell_type": "markdown",
   "id": "6a514555",
   "metadata": {},
   "source": [
    "## Links úteis:\n",
    "\n",
    "[Manual de uso do Pyomo](http://www.opl.ufc.br/files/Manual_Pyomo_2020.pdf)\n",
    "\n",
    "[Livro - Pesquisa Operacional para Cursos de Engenharia](https://www.grupogen.com.br/pesquisa-operacional-para-cursos-de-engenharia)\n",
    "\n",
    "[Playlist de Programação Linear - Cassius Scarpin](https://www.youtube.com/playlist?list=PLY8sfsQRSw792jf1y1KDvRYbL5QMB5CoG)\n",
    "\n",
    "[Vídeo aula - Modelando um problema de Programação Linear]()\n",
    "\n",
    "[Contato](https://acsjunior.com)"
   ]
  },
  {
   "cell_type": "markdown",
   "id": "5407009a",
   "metadata": {},
   "source": [
    "(Belfiore e Fávero) A empresa Venix de brinquedos está revendo seu planejamento de produção de carrinhos e triciclos. \n",
    "\n",
    "O lucro líquido por unidade de carrinho e triciclo produzido é de $\\text{R\\$}12,00$ e $\\text{R\\$}60,00$, respectivamente. \n",
    "\n",
    "As matérias primas e os insumos necessários para a fabricação de cada um dos produtos são terceirizados, cabendo à empresa os processos de usinagem, pintura e montagem. \n",
    "\n",
    "O processo de usinagem requer 15 minutos de mão de obra especializada por unidade de carrinho e 30 minutos por unidade de triciclo produzida. \n",
    "\n",
    "O processo de pintura requer 6 minutos de mão de obra especializada por unidade de carrinho e 45 minutos por unidade de triciclo produzida. \n",
    "\n",
    "Já o processo de montagem necessita de 6 minutos e 24 minutos para uma unidade de carrinho e de triciclo produzida, respectivamente. \n",
    "\n",
    "O tempo disponível por semana é de 36, 22 e 15 horas para os processos de usinagem, pintura e montagem, respectivamente. \n",
    "\n",
    "A empresa quer determinar quanto produzir de cada produto por semana, respeitando as limitações de recursos, de forma a maximizar o lucro líquido semanal. Formular o problema de programação linear que maximiza o lucro líquido da empresa Venix.\n",
    "\n",
    "\n",
    "\n",
    "|  | carrinho | triciclo |\n",
    "|:--- |:---:|:---:|\n",
    "| <b>Lucro (R$)</b> | 12 | 60 |\n",
    "\n",
    "\n",
    "|  | carrinho | triciclo | disponib. (h) |\n",
    "|:--- |:---:|:---:|:---:|\n",
    "| <b>Usinagem</b> | 0,25 | 0,5 | 36 |\n",
    "| <b>Pintura</b> | 0,1 | 0,75 | 22 |\n",
    "| <b>Montagem</b> | 0,1 | 0,4 | 15 |"
   ]
  },
  {
   "cell_type": "markdown",
   "id": "daf78456",
   "metadata": {},
   "source": [
    "## Variáveis de decisão\n",
    "\n",
    "$x_1 \\colon \\text{quantidade de carrinhos a serem produzidos por semana}$\n",
    "\n",
    "$x_2 \\colon \\text{quantidade de triciclos a serem produzidos por semana}$\n",
    "\n",
    "## Formulação matemática\n",
    "\n",
    "$\\text{max }z = 12x_1 + 60x_2$\n",
    "\n",
    "sujeito a\n",
    "\n",
    "1. O tempo total de mão de obra para a atividade de usinagem não pode ultrapassar 36h/ semana:\n",
    "\n",
    "$0,25x_1 + 0,5x_2 \\leq 36$ \n",
    "\n",
    "2. O tempo total de mão de obra para a atividade de pintura não pode ultrapassar 22h/ semana:\n",
    "\n",
    "$0,1x_1 + 0,75x_2 \\leq 22$\n",
    "\n",
    "3. O tempo total de mão de obra para a atividade de montagem não pode ultrapassar 15h/ semana:\n",
    "\n",
    "$0,1x_1 + 0,4x_2 \\leq 15$\n",
    "\n",
    "4. As quantidades de carrinhos e triciclos não podem ser negativas:\n",
    "\n",
    "$x_1, x_2 \\geq 0$"
   ]
  },
  {
   "cell_type": "code",
   "execution_count": 1,
   "id": "9a26e364",
   "metadata": {},
   "outputs": [],
   "source": [
    "from pyomo.environ import *"
   ]
  },
  {
   "cell_type": "code",
   "execution_count": 3,
   "id": "8a73d71d",
   "metadata": {},
   "outputs": [],
   "source": [
    "# Declaração do modelo:\n",
    "\n",
    "modelo = ConcreteModel()\n",
    "\n",
    "# Variáveis de decisão:\n",
    "\n",
    "modelo.x1 = Var(within=NonNegativeReals)\n",
    "modelo.x2 = Var(within=NonNegativeReals)\n",
    "\n",
    "# Função objetivo:\n",
    "\n",
    "modelo.z = Objective(expr=12*modelo.x1 + 60*modelo.x2, sense=maximize)\n",
    "\n",
    "# Restrições:\n",
    "\n",
    "modelo.restr_usinagem = Constraint(expr=0.25*modelo.x1 + 0.5*modelo.x2 <= 36)\n",
    "\n",
    "modelo.restr_pintura = Constraint(expr=0.1*modelo.x1 + 0.75*modelo.x2 <= 22)\n",
    "modelo.restr_montagem = Constraint(expr=0.1*modelo.x1 + 0.4*modelo.x2 <= 15)"
   ]
  },
  {
   "cell_type": "code",
   "execution_count": 4,
   "id": "283785fd",
   "metadata": {
    "scrolled": false
   },
   "outputs": [
    {
     "name": "stdout",
     "output_type": "stream",
     "text": [
      "2 Var Declarations\n",
      "    x1 : Size=1, Index=None\n",
      "        Key  : Lower : Value : Upper : Fixed : Stale : Domain\n",
      "        None :     0 :  None :  None : False :  True : NonNegativeReals\n",
      "    x2 : Size=1, Index=None\n",
      "        Key  : Lower : Value : Upper : Fixed : Stale : Domain\n",
      "        None :     0 :  None :  None : False :  True : NonNegativeReals\n",
      "\n",
      "1 Objective Declarations\n",
      "    z : Size=1, Index=None, Active=True\n",
      "        Key  : Active : Sense    : Expression\n",
      "        None :   True : maximize : 12*x1 + 60*x2\n",
      "\n",
      "3 Constraint Declarations\n",
      "    restr_montagem : Size=1, Index=None, Active=True\n",
      "        Key  : Lower : Body            : Upper : Active\n",
      "        None :  -Inf : 0.1*x1 + 0.4*x2 :  15.0 :   True\n",
      "    restr_pintura : Size=1, Index=None, Active=True\n",
      "        Key  : Lower : Body             : Upper : Active\n",
      "        None :  -Inf : 0.1*x1 + 0.75*x2 :  22.0 :   True\n",
      "    restr_usinagem : Size=1, Index=None, Active=True\n",
      "        Key  : Lower : Body             : Upper : Active\n",
      "        None :  -Inf : 0.25*x1 + 0.5*x2 :  36.0 :   True\n",
      "\n",
      "6 Declarations: x1 x2 z restr_usinagem restr_pintura restr_montagem\n"
     ]
    }
   ],
   "source": [
    "modelo.pprint()"
   ]
  },
  {
   "cell_type": "code",
   "execution_count": 5,
   "id": "cc2241ae",
   "metadata": {},
   "outputs": [],
   "source": [
    "resultado = SolverFactory('glpk').solve(modelo)"
   ]
  },
  {
   "cell_type": "code",
   "execution_count": 6,
   "id": "b6ac53d9",
   "metadata": {},
   "outputs": [
    {
     "name": "stdout",
     "output_type": "stream",
     "text": [
      "# ==========================================================\n",
      "# = Solver Results                                         =\n",
      "# ==========================================================\n",
      "# ----------------------------------------------------------\n",
      "#   Problem Information\n",
      "# ----------------------------------------------------------\n",
      "Problem: \n",
      "- Name: unknown\n",
      "  Lower bound: 2040.0\n",
      "  Upper bound: 2040.0\n",
      "  Number of objectives: 1\n",
      "  Number of constraints: 4\n",
      "  Number of variables: 3\n",
      "  Number of nonzeros: 7\n",
      "  Sense: maximize\n",
      "# ----------------------------------------------------------\n",
      "#   Solver Information\n",
      "# ----------------------------------------------------------\n",
      "Solver: \n",
      "- Status: ok\n",
      "  Termination condition: optimal\n",
      "  Statistics: \n",
      "    Branch and bound: \n",
      "      Number of bounded subproblems: 0\n",
      "      Number of created subproblems: 0\n",
      "  Error rc: 0\n",
      "  Time: 0.0272061824798584\n",
      "# ----------------------------------------------------------\n",
      "#   Solution Information\n",
      "# ----------------------------------------------------------\n",
      "Solution: \n",
      "- number of solutions: 0\n",
      "  number of solutions displayed: 0\n"
     ]
    }
   ],
   "source": [
    "resultado.write()"
   ]
  },
  {
   "cell_type": "code",
   "execution_count": 7,
   "id": "fbf9e743",
   "metadata": {},
   "outputs": [
    {
     "data": {
      "text/plain": [
       "70.0"
      ]
     },
     "execution_count": 7,
     "metadata": {},
     "output_type": "execute_result"
    }
   ],
   "source": [
    "modelo.x1()"
   ]
  },
  {
   "cell_type": "code",
   "execution_count": 8,
   "id": "1e7a10db",
   "metadata": {},
   "outputs": [
    {
     "data": {
      "text/plain": [
       "20.0"
      ]
     },
     "execution_count": 8,
     "metadata": {},
     "output_type": "execute_result"
    }
   ],
   "source": [
    "modelo.x2()"
   ]
  },
  {
   "cell_type": "code",
   "execution_count": 9,
   "id": "5aa7e360",
   "metadata": {},
   "outputs": [
    {
     "data": {
      "text/plain": [
       "2040.0"
      ]
     },
     "execution_count": 9,
     "metadata": {},
     "output_type": "execute_result"
    }
   ],
   "source": [
    "modelo.z()"
   ]
  },
  {
   "cell_type": "code",
   "execution_count": null,
   "id": "4fc4ccab",
   "metadata": {},
   "outputs": [],
   "source": []
  }
 ],
 "metadata": {
  "kernelspec": {
   "display_name": "Python 3",
   "language": "python",
   "name": "python3"
  },
  "language_info": {
   "codemirror_mode": {
    "name": "ipython",
    "version": 3
   },
   "file_extension": ".py",
   "mimetype": "text/x-python",
   "name": "python",
   "nbconvert_exporter": "python",
   "pygments_lexer": "ipython3",
   "version": "3.7.10"
  }
 },
 "nbformat": 4,
 "nbformat_minor": 5
}
