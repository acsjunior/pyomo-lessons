{
 "cells": [
  {
   "cell_type": "markdown",
   "id": "0363c82a",
   "metadata": {},
   "source": [
    "## Links úteis:\n",
    "\n",
    "[Manual de uso do Pyomo](http://www.opl.ufc.br/files/Manual_Pyomo_2020.pdf)\n",
    "\n",
    "[Markdown cheat sheet](https://github.com/adam-p/markdown-here/wiki/Markdown-Cheatsheet)\n",
    "\n",
    "[Vídeo aula - Primeiros passos com o Jupyter Notebook](https://www.youtube.com/watch?v=p7DGgsKCjNM&list=PLB0Bkje224EHp-IPd9i_FADBXXQcft5L6&index=3&t=11s)\n",
    "\n",
    "[Contato](https://acsjunior.com)"
   ]
  },
  {
   "cell_type": "code",
   "execution_count": 2,
   "id": "9a7e0086",
   "metadata": {},
   "outputs": [],
   "source": [
    "z = 12"
   ]
  },
  {
   "cell_type": "code",
   "execution_count": 3,
   "id": "aa0635e0",
   "metadata": {},
   "outputs": [
    {
     "data": {
      "text/plain": [
       "10"
      ]
     },
     "execution_count": 3,
     "metadata": {},
     "output_type": "execute_result"
    }
   ],
   "source": [
    "x"
   ]
  },
  {
   "cell_type": "code",
   "execution_count": 1,
   "id": "2c2cc997",
   "metadata": {},
   "outputs": [],
   "source": [
    "x = 10\n",
    "y = 5\n",
    "\n",
    "z = x + y"
   ]
  },
  {
   "cell_type": "code",
   "execution_count": 4,
   "id": "94782922",
   "metadata": {},
   "outputs": [
    {
     "data": {
      "text/plain": [
       "5"
      ]
     },
     "execution_count": 4,
     "metadata": {},
     "output_type": "execute_result"
    }
   ],
   "source": [
    "y"
   ]
  },
  {
   "cell_type": "markdown",
   "id": "b21b3034",
   "metadata": {},
   "source": [
    "# Título 1\n",
    "\n",
    "## Título 2\n",
    "\n",
    "* Item 1\n",
    "\n",
    "* Item 2\n",
    "\n",
    "* Item 3\n",
    "\n",
    "<hr>\n",
    "\n",
    "<br>\n",
    "\n",
    "<br>\n",
    "\n",
    "<br>\n",
    "\n",
    "### Título 3\n",
    "\n",
    "1. Item 1\n",
    "\n",
    "2. Item 2\n",
    "\n",
    "3. Item 3\n",
    "\n",
    "<i>Texto</i> <b>teste</b>\n",
    "\n",
    "<hr>\n",
    "\n",
    "Este texto está em *itálico*\n",
    "\n",
    "Este texto está em **negrito**\n",
    "\n",
    "<hr>\n",
    "\n",
    "$y = ax + b$\n",
    "\n",
    "$\\forall i \\in I$\n",
    "\n",
    "[Clique aqui](https://www.google.com) para fazer o download"
   ]
  },
  {
   "cell_type": "code",
   "execution_count": null,
   "id": "6574b001",
   "metadata": {},
   "outputs": [],
   "source": []
  }
 ],
 "metadata": {
  "kernelspec": {
   "display_name": "Python 3",
   "language": "python",
   "name": "python3"
  },
  "language_info": {
   "codemirror_mode": {
    "name": "ipython",
    "version": 3
   },
   "file_extension": ".py",
   "mimetype": "text/x-python",
   "name": "python",
   "nbconvert_exporter": "python",
   "pygments_lexer": "ipython3",
   "version": "3.7.10"
  }
 },
 "nbformat": 4,
 "nbformat_minor": 5
}
